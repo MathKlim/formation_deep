{
  "cells": [
    {
      "cell_type": "markdown",
      "metadata": {
        "id": "gie9uQljWTmw",
        "colab_type": "text"
      },
      "source": [
        "# TP Module 1 : Introduction au deep learning, prise en main de Tensorflow et Keras"
      ]
    },
    {
      "cell_type": "markdown",
      "metadata": {
        "id": "ZyJgCXHTWTmz",
        "colab_type": "text"
      },
      "source": [
        "Le but de ce tp est ici de se familiariser avec Tensorflow et son API haut niveau Keras."
      ]
    },
    {
      "cell_type": "code",
      "metadata": {
        "id": "LEyHKHaNWTm1",
        "colab_type": "code",
        "outputId": "eeccddb1-918b-446a-ad33-ab761466486e",
        "colab": {
          "base_uri": "https://localhost:8080/",
          "height": 54
        }
      },
      "source": [
        "import tensorflow as tf\n",
        "from tensorflow import keras\n",
        "\n",
        "print(tf.__version__)\n",
        "print(keras.__version__)\n",
        "\n",
        "import numpy as np\n",
        "import random\n",
        "import os\n",
        "\n",
        "# freeze de l'aléatoire, pour avoir des expériences reproductibles.\n",
        "RANDOM_SEED = 42\n",
        "\n",
        "os.environ['PYTHONHASHSEED'] = str(RANDOM_SEED)\n",
        "random.seed(RANDOM_SEED)\n",
        "np.random.seed(RANDOM_SEED)\n",
        "os.environ['TF_DETERMINISTIC_OPS'] = '1'\n",
        "tf.random.set_seed(RANDOM_SEED)"
      ],
      "execution_count": 0,
      "outputs": [
        {
          "output_type": "stream",
          "text": [
            "2.2.0-rc3\n",
            "2.3.0-tf\n"
          ],
          "name": "stdout"
        }
      ]
    },
    {
      "cell_type": "code",
      "metadata": {
        "id": "mj9x7ejhqCuB",
        "colab_type": "code",
        "outputId": "8dc08dc1-af9f-424b-ad1a-91fab65a3355",
        "colab": {
          "base_uri": "https://localhost:8080/",
          "height": 329
        }
      },
      "source": [
        "!nvidia-smi"
      ],
      "execution_count": 0,
      "outputs": [
        {
          "output_type": "stream",
          "text": [
            "Tue Apr 21 07:33:53 2020       \n",
            "+-----------------------------------------------------------------------------+\n",
            "| NVIDIA-SMI 440.64.00    Driver Version: 418.67       CUDA Version: 10.1     |\n",
            "|-------------------------------+----------------------+----------------------+\n",
            "| GPU  Name        Persistence-M| Bus-Id        Disp.A | Volatile Uncorr. ECC |\n",
            "| Fan  Temp  Perf  Pwr:Usage/Cap|         Memory-Usage | GPU-Util  Compute M. |\n",
            "|===============================+======================+======================|\n",
            "|   0  Tesla K80           Off  | 00000000:00:04.0 Off |                    0 |\n",
            "| N/A   65C    P8    32W / 149W |      0MiB / 11441MiB |      0%      Default |\n",
            "+-------------------------------+----------------------+----------------------+\n",
            "                                                                               \n",
            "+-----------------------------------------------------------------------------+\n",
            "| Processes:                                                       GPU Memory |\n",
            "|  GPU       PID   Type   Process name                             Usage      |\n",
            "|=============================================================================|\n",
            "|  No running processes found                                                 |\n",
            "+-----------------------------------------------------------------------------+\n"
          ],
          "name": "stdout"
        }
      ]
    },
    {
      "cell_type": "markdown",
      "metadata": {
        "id": "Uyj1v5dlWTnE",
        "colab_type": "text"
      },
      "source": [
        "**Avant de voir la création de modèles en tant que tel, discutons un peu de Tensorflow.**"
      ]
    },
    {
      "cell_type": "markdown",
      "metadata": {
        "id": "6VIXxoNrWTnG",
        "colab_type": "text"
      },
      "source": [
        "## **Tenseurs et opérations**\n",
        "\n",
        "L'objet de base dans Tensorflow est le tenseur. Si vous avez les connaissances de bases en algèbre linéaire, ça ne devrait pas être compliqué.\n",
        "\n",
        "Un tenseur est un tableau multidimensionnel, tout comme l'équivalent Numpy avec `ndarray`.\n",
        "\n",
        "-  Un tenseur en dimension 0 correspond à un scalaire (un nombre),\n",
        "-  Un tenseur de dimension 1 correspond à un vecteur,\n",
        "-  Un tenseur de dimension 2 correspond à une matrice,\n",
        "-  Une fois que l'on commence à empiler des matrices ensemble dans un nouveau tableau, on obtient un tenseur en 3 dimensions, que l'on peut interpréter comme un cube de nombres."
      ]
    },
    {
      "cell_type": "markdown",
      "metadata": {
        "id": "ZoaO1JlNWTnH",
        "colab_type": "text"
      },
      "source": [
        "Les opérations mathématiques possibles avec Numpy se font exactement de la même façon avec les tenseurs, et il se définissent exactement de la même manière. Il suffit principalement de remplacer `np.array` par `tf.constant`."
      ]
    },
    {
      "cell_type": "markdown",
      "metadata": {
        "id": "9mm2YHHBWTnJ",
        "colab_type": "text"
      },
      "source": [
        "### **Exemple**"
      ]
    },
    {
      "cell_type": "code",
      "metadata": {
        "id": "6KwsVkKGWTnK",
        "colab_type": "code",
        "outputId": "b3b79def-b68e-4f76-c128-2c86709028a3",
        "colab": {
          "base_uri": "https://localhost:8080/",
          "height": 35
        }
      },
      "source": [
        "a = np.array([1, 2, 3])\n",
        "\n",
        "print(f'{a}, {a.dtype}')"
      ],
      "execution_count": 0,
      "outputs": [
        {
          "output_type": "stream",
          "text": [
            "[1 2 3], int64\n"
          ],
          "name": "stdout"
        }
      ]
    },
    {
      "cell_type": "code",
      "metadata": {
        "id": "7XY-Ab1UWTnS",
        "colab_type": "code",
        "outputId": "f08f35aa-6920-473f-edbc-d6cad09dcd14",
        "colab": {
          "base_uri": "https://localhost:8080/",
          "height": 35
        }
      },
      "source": [
        "# On peut directement transformer un numpy array en tenseur tensorflow\n",
        "\n",
        "tf_a = tf.constant(a)\n",
        "tf_a"
      ],
      "execution_count": 0,
      "outputs": [
        {
          "output_type": "execute_result",
          "data": {
            "text/plain": [
              "<tf.Tensor: shape=(3,), dtype=int64, numpy=array([1, 2, 3])>"
            ]
          },
          "metadata": {
            "tags": []
          },
          "execution_count": 4
        }
      ]
    },
    {
      "cell_type": "code",
      "metadata": {
        "id": "M8Sm6C7_WTnZ",
        "colab_type": "code",
        "outputId": "636ac3bc-44e8-416d-c09a-4712bc578ca7",
        "colab": {
          "base_uri": "https://localhost:8080/",
          "height": 35
        }
      },
      "source": [
        "# On peut aussi le créer directement\n",
        "\n",
        "b = tf.constant([1,2,3])\n",
        "b"
      ],
      "execution_count": 0,
      "outputs": [
        {
          "output_type": "execute_result",
          "data": {
            "text/plain": [
              "<tf.Tensor: shape=(3,), dtype=int32, numpy=array([1, 2, 3], dtype=int32)>"
            ]
          },
          "metadata": {
            "tags": []
          },
          "execution_count": 5
        }
      ]
    },
    {
      "cell_type": "markdown",
      "metadata": {
        "id": "JJK_bbJfWTnf",
        "colab_type": "text"
      },
      "source": [
        "<font color=red>**Attention**</font>\n",
        "\n",
        "Comme montré au dessus, le type n'est pas le même, pour `tf_a` le type est hérité de Numpy, les entiers de `tf.constant` sont au type `int32`. Comme pour Numpy on peut changer le type des tenseurs."
      ]
    },
    {
      "cell_type": "code",
      "metadata": {
        "id": "tTQGdjfYWTnh",
        "colab_type": "code",
        "outputId": "b14379ff-2608-4ed8-9b4c-9cd01a93d9bd",
        "colab": {
          "base_uri": "https://localhost:8080/",
          "height": 35
        }
      },
      "source": [
        "b = tf.constant([1,2,3], dtype = 'int64')\n",
        "tf_a == b"
      ],
      "execution_count": 0,
      "outputs": [
        {
          "output_type": "execute_result",
          "data": {
            "text/plain": [
              "<tf.Tensor: shape=(3,), dtype=bool, numpy=array([ True,  True,  True])>"
            ]
          },
          "metadata": {
            "tags": []
          },
          "execution_count": 6
        }
      ]
    },
    {
      "cell_type": "markdown",
      "metadata": {
        "id": "abmjxt_4WTnn",
        "colab_type": "text"
      },
      "source": [
        "### **Exercice**\n",
        "\n",
        "Ecrire comme un tenseur la matrice $2 \\times 3$ suivante :\n",
        "\n",
        "$$  \\mathbf{W} = \\begin{pmatrix}\n",
        "1 & 2 & 3 \\\\\n",
        "4 & 5 & 6\n",
        "\\end{pmatrix}$$\n",
        "\n",
        "des 2 façons possibles :\n",
        "\n",
        "-  Ecrire sous la forme d'un `ndarray` Numpy puis le convertir,\n",
        "-  Directement via `tf.constant`\n",
        "\n",
        "Via les commandes `shape` et `dtype`, afficher la forme et le data type de de chacun, puis faire sorte que les 2 façons coïncident."
      ]
    },
    {
      "cell_type": "code",
      "metadata": {
        "id": "k9SwdLfqWTnp",
        "colab_type": "code",
        "outputId": "e959c0c3-673e-4726-c595-310017c3c6dc",
        "colab": {
          "base_uri": "https://localhost:8080/",
          "height": 35
        }
      },
      "source": [
        "a = np.array([[1,2,3],[4,5,6]])\n",
        "\n",
        "print(f'shape = {a.shape}, data type = {a.dtype}')"
      ],
      "execution_count": 0,
      "outputs": [
        {
          "output_type": "stream",
          "text": [
            "shape = (2, 3), data type = int64\n"
          ],
          "name": "stdout"
        }
      ]
    },
    {
      "cell_type": "code",
      "metadata": {
        "id": "sumZSfvwWTnu",
        "colab_type": "code",
        "outputId": "cda00c73-5d72-49ca-9f80-0dfaa7c41957",
        "colab": {
          "base_uri": "https://localhost:8080/",
          "height": 35
        }
      },
      "source": [
        "tf_a = tf.constant(a)\n",
        "\n",
        "print(f'shape = {tf_a.shape}, data type = {tf_a.dtype}')"
      ],
      "execution_count": 0,
      "outputs": [
        {
          "output_type": "stream",
          "text": [
            "shape = (2, 3), data type = <dtype: 'int64'>\n"
          ],
          "name": "stdout"
        }
      ]
    },
    {
      "cell_type": "code",
      "metadata": {
        "id": "ip8Hy92rWTnz",
        "colab_type": "code",
        "outputId": "33a5d108-2cd3-4a19-a0f4-13852435c817",
        "colab": {
          "base_uri": "https://localhost:8080/",
          "height": 35
        }
      },
      "source": [
        "b = tf.constant([[1,2,3],[4,5,6]], dtype=tf.int64)\n",
        "\n",
        "print(f'shape = {b.shape}, data type = {b.dtype}')"
      ],
      "execution_count": 0,
      "outputs": [
        {
          "output_type": "stream",
          "text": [
            "shape = (2, 3), data type = <dtype: 'int64'>\n"
          ],
          "name": "stdout"
        }
      ]
    },
    {
      "cell_type": "code",
      "metadata": {
        "id": "ZUk275oaWTn5",
        "colab_type": "code",
        "outputId": "7e22cee4-86cb-4d79-acdb-4a45883fb8ed",
        "colab": {
          "base_uri": "https://localhost:8080/",
          "height": 72
        }
      },
      "source": [
        "tf_a == b"
      ],
      "execution_count": 0,
      "outputs": [
        {
          "output_type": "execute_result",
          "data": {
            "text/plain": [
              "<tf.Tensor: shape=(2, 3), dtype=bool, numpy=\n",
              "array([[ True,  True,  True],\n",
              "       [ True,  True,  True]])>"
            ]
          },
          "metadata": {
            "tags": []
          },
          "execution_count": 10
        }
      ]
    },
    {
      "cell_type": "markdown",
      "metadata": {
        "id": "Ssc6dzZHWToA",
        "colab_type": "text"
      },
      "source": [
        "### **Exercice**\n",
        "\n",
        "A l'aide de la commande `tf.reshape`, modifier `b` en un tenseur de forme $(3,2)$\n",
        "\n",
        "- https://www.tensorflow.org/api_docs/python/tf/reshape"
      ]
    },
    {
      "cell_type": "code",
      "metadata": {
        "id": "GTSc7ASlWToB",
        "colab_type": "code",
        "outputId": "9744262f-40cc-4fbf-9fc6-0892e4b9f333",
        "colab": {
          "base_uri": "https://localhost:8080/",
          "height": 90
        }
      },
      "source": [
        "b = tf.reshape(b,(3,2))\n",
        "b"
      ],
      "execution_count": 0,
      "outputs": [
        {
          "output_type": "execute_result",
          "data": {
            "text/plain": [
              "<tf.Tensor: shape=(3, 2), dtype=int64, numpy=\n",
              "array([[1, 2],\n",
              "       [3, 4],\n",
              "       [5, 6]])>"
            ]
          },
          "metadata": {
            "tags": []
          },
          "execution_count": 11
        }
      ]
    },
    {
      "cell_type": "markdown",
      "metadata": {
        "id": "Q9XxMCy-WToG",
        "colab_type": "text"
      },
      "source": [
        "D'autres opération classique dans Numpy existe aussi dans tensorflow, comme la transposée"
      ]
    },
    {
      "cell_type": "code",
      "metadata": {
        "id": "mI4HcSH7WToH",
        "colab_type": "code",
        "outputId": "a99e7ea0-598d-4e01-cc4e-0b37edf7d148",
        "colab": {
          "base_uri": "https://localhost:8080/",
          "height": 72
        }
      },
      "source": [
        "tf.transpose(b)"
      ],
      "execution_count": 0,
      "outputs": [
        {
          "output_type": "execute_result",
          "data": {
            "text/plain": [
              "<tf.Tensor: shape=(2, 3), dtype=int64, numpy=\n",
              "array([[1, 3, 5],\n",
              "       [2, 4, 6]])>"
            ]
          },
          "metadata": {
            "tags": []
          },
          "execution_count": 12
        }
      ]
    },
    {
      "cell_type": "markdown",
      "metadata": {
        "id": "DmdvtDfOWToU",
        "colab_type": "text"
      },
      "source": [
        "Le produit matriciel avec la commande `@`"
      ]
    },
    {
      "cell_type": "code",
      "metadata": {
        "id": "RreGAT_mWToV",
        "colab_type": "code",
        "outputId": "1df245df-38fd-46d5-fff1-2fcfa656230c",
        "colab": {
          "base_uri": "https://localhost:8080/",
          "height": 72
        }
      },
      "source": [
        "tf.transpose(b)@b"
      ],
      "execution_count": 0,
      "outputs": [
        {
          "output_type": "execute_result",
          "data": {
            "text/plain": [
              "<tf.Tensor: shape=(2, 2), dtype=int64, numpy=\n",
              "array([[35, 44],\n",
              "       [44, 56]])>"
            ]
          },
          "metadata": {
            "tags": []
          },
          "execution_count": 13
        }
      ]
    },
    {
      "cell_type": "markdown",
      "metadata": {
        "id": "P6lYcWsbWToZ",
        "colab_type": "text"
      },
      "source": [
        "Une des options de la commande `tf.reshape` qui sera utile par la suite, et le fait de ne pouvoir que partiellement spécifier les dimensions. Mettre un `-1` dans un des axes permet de le spécifier par rapport aux autres dimensions."
      ]
    },
    {
      "cell_type": "code",
      "metadata": {
        "id": "sZo-oMcRWToa",
        "colab_type": "code",
        "outputId": "77c7b500-b50d-479d-a511-0aac6745bf5a",
        "colab": {
          "base_uri": "https://localhost:8080/",
          "height": 35
        }
      },
      "source": [
        "b = tf.reshape(b,(1,-1))\n",
        "b"
      ],
      "execution_count": 0,
      "outputs": [
        {
          "output_type": "execute_result",
          "data": {
            "text/plain": [
              "<tf.Tensor: shape=(1, 6), dtype=int64, numpy=array([[1, 2, 3, 4, 5, 6]])>"
            ]
          },
          "metadata": {
            "tags": []
          },
          "execution_count": 14
        }
      ]
    },
    {
      "cell_type": "code",
      "metadata": {
        "id": "34YJWHPxWTog",
        "colab_type": "code",
        "outputId": "d44c10d5-7be9-4b90-eda2-709bfea99168",
        "colab": {
          "base_uri": "https://localhost:8080/",
          "height": 972
        }
      },
      "source": [
        "c = np.random.random_sample((100,))\n",
        "c = tf.reshape(c,(-1,25,2))\n",
        "c"
      ],
      "execution_count": 0,
      "outputs": [
        {
          "output_type": "execute_result",
          "data": {
            "text/plain": [
              "<tf.Tensor: shape=(2, 25, 2), dtype=float64, numpy=\n",
              "array([[[0.37454012, 0.95071431],\n",
              "        [0.73199394, 0.59865848],\n",
              "        [0.15601864, 0.15599452],\n",
              "        [0.05808361, 0.86617615],\n",
              "        [0.60111501, 0.70807258],\n",
              "        [0.02058449, 0.96990985],\n",
              "        [0.83244264, 0.21233911],\n",
              "        [0.18182497, 0.18340451],\n",
              "        [0.30424224, 0.52475643],\n",
              "        [0.43194502, 0.29122914],\n",
              "        [0.61185289, 0.13949386],\n",
              "        [0.29214465, 0.36636184],\n",
              "        [0.45606998, 0.78517596],\n",
              "        [0.19967378, 0.51423444],\n",
              "        [0.59241457, 0.04645041],\n",
              "        [0.60754485, 0.17052412],\n",
              "        [0.06505159, 0.94888554],\n",
              "        [0.96563203, 0.80839735],\n",
              "        [0.30461377, 0.09767211],\n",
              "        [0.68423303, 0.44015249],\n",
              "        [0.12203823, 0.49517691],\n",
              "        [0.03438852, 0.9093204 ],\n",
              "        [0.25877998, 0.66252228],\n",
              "        [0.31171108, 0.52006802],\n",
              "        [0.54671028, 0.18485446]],\n",
              "\n",
              "       [[0.96958463, 0.77513282],\n",
              "        [0.93949894, 0.89482735],\n",
              "        [0.59789998, 0.92187424],\n",
              "        [0.0884925 , 0.19598286],\n",
              "        [0.04522729, 0.32533033],\n",
              "        [0.38867729, 0.27134903],\n",
              "        [0.82873751, 0.35675333],\n",
              "        [0.28093451, 0.54269608],\n",
              "        [0.14092422, 0.80219698],\n",
              "        [0.07455064, 0.98688694],\n",
              "        [0.77224477, 0.19871568],\n",
              "        [0.00552212, 0.81546143],\n",
              "        [0.70685734, 0.72900717],\n",
              "        [0.77127035, 0.07404465],\n",
              "        [0.35846573, 0.11586906],\n",
              "        [0.86310343, 0.62329813],\n",
              "        [0.33089802, 0.06355835],\n",
              "        [0.31098232, 0.32518332],\n",
              "        [0.72960618, 0.63755747],\n",
              "        [0.88721274, 0.47221493],\n",
              "        [0.11959425, 0.71324479],\n",
              "        [0.76078505, 0.5612772 ],\n",
              "        [0.77096718, 0.4937956 ],\n",
              "        [0.52273283, 0.42754102],\n",
              "        [0.02541913, 0.10789143]]])>"
            ]
          },
          "metadata": {
            "tags": []
          },
          "execution_count": 15
        }
      ]
    },
    {
      "cell_type": "markdown",
      "metadata": {
        "id": "9sLxA4GeWTom",
        "colab_type": "text"
      },
      "source": [
        "## **Anatomie d'un réseau de neurones**"
      ]
    },
    {
      "cell_type": "markdown",
      "metadata": {
        "id": "av5tAQdSWToo",
        "colab_type": "text"
      },
      "source": [
        "Keras est l'API de haut niveau de Tensorflow, elle facilite la contruction des réseaux de neurones en automatisant beaucoup de pratiques, comme la rétropropagation du gradient."
      ]
    },
    {
      "cell_type": "markdown",
      "metadata": {
        "id": "iq4F_Zg7WTop",
        "colab_type": "text"
      },
      "source": [
        "Entraîner un réseau de neurones dépend des paramètres suivants :\n",
        "\n",
        "- Les couches de neurones, qui se combinent en un réseau (ou modèle),\n",
        "- Les données : les observations et les cibles correspondantes,\n",
        "- La fonction de perte, qui définira le gradient à calculer,\n",
        "- la méthode d'optimisation, pour la descente du gradient.\n",
        "\n",
        "L'ensemble des couches de neurones nécessaires à la constitution des réseaux se trouve dans la partie `tensorflow.keras.layers` de la librairie Tensorflow. Par exemple, appelons une couches de neurones denses avec 10 neurones dedans."
      ]
    },
    {
      "cell_type": "code",
      "metadata": {
        "id": "0MJcAoXoWTor",
        "colab_type": "code",
        "colab": {}
      },
      "source": [
        "from tensorflow.keras.layers import Dense\n",
        "\n",
        "layer = Dense(10)"
      ],
      "execution_count": 0,
      "outputs": []
    },
    {
      "cell_type": "code",
      "metadata": {
        "id": "pVagnnVmWTov",
        "colab_type": "code",
        "colab": {}
      },
      "source": [
        "from tensorflow import keras\n",
        "\n",
        "layer = keras.layers.Dense(10)"
      ],
      "execution_count": 0,
      "outputs": []
    },
    {
      "cell_type": "code",
      "metadata": {
        "id": "7Wf7fvbeWTo1",
        "colab_type": "code",
        "colab": {}
      },
      "source": [
        "layer = tf.keras.layers.Dense(10)"
      ],
      "execution_count": 0,
      "outputs": []
    },
    {
      "cell_type": "markdown",
      "metadata": {
        "id": "d1opqysSWTo3",
        "colab_type": "text"
      },
      "source": [
        "Toutes ces méthodes, pour appeler la couche dense sont identiques :\n",
        "\n",
        "- dans le premier cas on a importé les couches Dense depuis `from tensorflow.keras.layers import Dense`,\n",
        "- dans le deuxième cas, on a importé keras via `from tensorflow import keras`,\n",
        "- dans le dernier cas, on a importé Tensorflow via `import tensorflow as tf`.\n",
        "\n",
        "Les couches que l'on utiliserons dans ce TP seront les couches :\n",
        "\n",
        "- `Input`\n",
        "- `Dense`\n",
        "- `Activation`\n",
        "- `Flatten`\n",
        "\n",
        "On importe ces couches via les commandes suivantes."
      ]
    },
    {
      "cell_type": "code",
      "metadata": {
        "id": "QKf_r4WUWTo4",
        "colab_type": "code",
        "colab": {}
      },
      "source": [
        "from tensorflow.keras import models\n",
        "from tensorflow.keras.layers import Dense\n",
        "from tensorflow.keras.layers import Flatten\n",
        "from tensorflow.keras.layers import Input\n",
        "from tensorflow.keras.layers import Activation"
      ],
      "execution_count": 0,
      "outputs": []
    },
    {
      "cell_type": "markdown",
      "metadata": {
        "id": "8JyNOTSQWTo8",
        "colab_type": "text"
      },
      "source": [
        "Il existe 3 façons de construire des modèles avec Tensorflow via Keras :\n",
        "\n",
        "- L'API Séquentielle,\n",
        "- L'API Fonctionelle,\n",
        "- L'API Subclassing."
      ]
    },
    {
      "cell_type": "markdown",
      "metadata": {
        "id": "8bEvGavEWTo9",
        "colab_type": "text"
      },
      "source": [
        "## **API séquentielle**"
      ]
    },
    {
      "cell_type": "markdown",
      "metadata": {
        "id": "fWZIi5u1WTo-",
        "colab_type": "text"
      },
      "source": [
        "Pour construire un modèle à partir de l'API séquentielle, on procède la façon suivante :\n",
        "\n",
        "```python\n",
        "model = models.Sequential([\n",
        "InputLayer(input_shape=(dim)),\n",
        "Couche_1(params),\n",
        "Couche_2(params),\n",
        "Couche_3(params),\n",
        "...\n",
        "Couche_n(params)\n",
        "], name='nom_du_modèle')\n",
        "```\n",
        "\n",
        "Décrivons plus en avant les parties de ce code.\n",
        "\n",
        "1. `model = models.Sequential([....], name='nom_du_modèle')` instancie le modèle séquentiel, c'est à l'intérieur des crochets que l'on définit la topologie du modèle.\n",
        "2. `InputLayer(input_shape=(dim))` est toujours la première couche d'entrée à mettre dans le cas d'un modèle séquentiel, c'est la couche qui va prendre en entrée les données pour ensuite les faire passer dans le modèle. Il est nécessaire de préciser les dimensions des données d'entrées via le paramètres input_shape.\n",
        "3. `Couche_n(params)` correspond aux différentes couches que l'on peut mettre dans l'archtecture du neurones. Pour l'instant nous travaillerons avec les deux couches suivantes :\n",
        "\n",
        "    - Les couches de neurones denses,\n",
        "    - Les couches de fonction d'activations.\n",
        "    \n",
        "N'hésitez pas à vous reporter à la documentation de l'API Séquentielle de Tensorlfow, notamment sur les deux couches qui nous intéressent :\n",
        "\n",
        "- https://www.tensorflow.org/api_docs/python/tf/keras/layers/Dense\n",
        "- https://www.tensorflow.org/api_docs/python/tf/keras/layers/Activation\n",
        "- https://www.tensorflow.org/api_docs/python/tf/keras/activations"
      ]
    },
    {
      "cell_type": "markdown",
      "metadata": {
        "id": "Hxa-j833WTo_",
        "colab_type": "text"
      },
      "source": [
        "### **Exemple : Perceptron**"
      ]
    },
    {
      "cell_type": "code",
      "metadata": {
        "id": "QUjmbQ65WTpA",
        "colab_type": "code",
        "colab": {}
      },
      "source": [
        "model = models.Sequential([\n",
        "    Input(shape=(10,), name='Input'),\n",
        "    Dense(1),\n",
        "    Activation('sigmoid')\n",
        "    ], name='SeqAPI')"
      ],
      "execution_count": 0,
      "outputs": []
    },
    {
      "cell_type": "code",
      "metadata": {
        "id": "s_xzIScTWTpE",
        "colab_type": "code",
        "outputId": "85a2fcdf-052e-45b5-e150-c2943065273c",
        "colab": {}
      },
      "source": [
        "model.summary()"
      ],
      "execution_count": 0,
      "outputs": [
        {
          "output_type": "stream",
          "text": [
            "Model: \"SeqAPI\"\n",
            "_________________________________________________________________\n",
            "Layer (type)                 Output Shape              Param #   \n",
            "=================================================================\n",
            "dense_4 (Dense)              (None, 1)                 11        \n",
            "_________________________________________________________________\n",
            "activation_4 (Activation)    (None, 1)                 0         \n",
            "=================================================================\n",
            "Total params: 11\n",
            "Trainable params: 11\n",
            "Non-trainable params: 0\n",
            "_________________________________________________________________\n"
          ],
          "name": "stdout"
        }
      ]
    },
    {
      "cell_type": "markdown",
      "metadata": {
        "id": "wL63XYsVWTpJ",
        "colab_type": "text"
      },
      "source": [
        "Avec le code précedent, on a instancié un réseau contenant :\n",
        "\n",
        "- 10 entrées,\n",
        "- 1 neurone,\n",
        "- 1 fonction d'activation sigmoïde à la fin.\n",
        "\n",
        "**On a donc ici un modèle de Perceptron.**\n",
        "\n",
        "la commande `model.summary()` permet d'avoir un récapitulatif de l'architecture du réseau, en particulies le nombre de paramètres du réseau, ici on en a 11."
      ]
    },
    {
      "cell_type": "markdown",
      "metadata": {
        "id": "xpiZtiauWTpL",
        "colab_type": "text"
      },
      "source": [
        "## **API fonctionnelle**"
      ]
    },
    {
      "cell_type": "markdown",
      "metadata": {
        "id": "zsztXsH_WTpM",
        "colab_type": "text"
      },
      "source": [
        "Pour construire un modèle à partir de l'API séquentielle, on procède de la façon suivante :"
      ]
    },
    {
      "cell_type": "markdown",
      "metadata": {
        "id": "k14nYrd1YPa2",
        "colab_type": "text"
      },
      "source": [
        "```python\n",
        "from tensorflow.keras import Model\n",
        "\n",
        "inputs = Input(shape=(dim))\n",
        "x = Couche_1(params)(inputs)\n",
        "x = Couche_2(params)(x)\n",
        "x = Couche_3(params)(x)\n",
        "\n",
        "...\n",
        "\n",
        "outputs = Couche_n(params)(x)\n",
        "model = Model(inputs=inputs, outputs=output)\n",
        "```"
      ]
    },
    {
      "cell_type": "markdown",
      "metadata": {
        "id": "Pih3rM1BWTpN",
        "colab_type": "text"
      },
      "source": [
        "Ici comme le suppose le nom de l'API, chaque couche est alors considérée comme une fonction. On empile alors les couches comme l'on compose les fonctions.\n",
        "\n",
        "`sortie = Couche(params)(entrée)` $\\iff y =f(x)$\n",
        "\n",
        "Les modèles créés via l'API séquentielle pouvant être bien plus complexes qu'un simple modèle séquentiel, avec par exemple plusieurs entrées et sorties. Pour instancier le modèle il est donc nécessaire de lui préciser quelles sont les entrées et sorties via la commande\n",
        "\n",
        "`model = Model(inputs=inputs, outputs=output)`"
      ]
    },
    {
      "cell_type": "markdown",
      "metadata": {
        "id": "wxBKwMrSWTpO",
        "colab_type": "text"
      },
      "source": [
        "Une fois que l'architecture du modèle est définie, qu'elle soit faite à partir de l'API séquentielle ou de l'API fonctionnelle ne change rien. Les méthodes pour compiler le modèle et l'entraîner sont les mêmes."
      ]
    },
    {
      "cell_type": "markdown",
      "metadata": {
        "id": "x_5Zuz-lWTpP",
        "colab_type": "text"
      },
      "source": [
        "### **Exercice : Perceptron**"
      ]
    },
    {
      "cell_type": "markdown",
      "metadata": {
        "id": "UHU8Xh0WWTpQ",
        "colab_type": "text"
      },
      "source": [
        "Réécrivez le modèle du Perceptron via l'API fonctionnelle."
      ]
    },
    {
      "cell_type": "code",
      "metadata": {
        "id": "PAWj8BdjWTpR",
        "colab_type": "code",
        "outputId": "170cb916-5365-4a0b-8aeb-337ef6c01628",
        "colab": {
          "base_uri": "https://localhost:8080/",
          "height": 274
        }
      },
      "source": [
        "inputs = Input(shape=(10,))\n",
        "hid = Dense(1)(inputs)\n",
        "out = Activation('sigmoid')(hid)\n",
        "\n",
        "model = tf.keras.Model(inputs = inputs, outputs = out, name='FuncAPI')\n",
        "model.summary()"
      ],
      "execution_count": 0,
      "outputs": [
        {
          "output_type": "stream",
          "text": [
            "Model: \"FuncAPI\"\n",
            "_________________________________________________________________\n",
            "Layer (type)                 Output Shape              Param #   \n",
            "=================================================================\n",
            "input_8 (InputLayer)         [(None, 10)]              0         \n",
            "_________________________________________________________________\n",
            "dense (Dense)                (None, 1)                 11        \n",
            "_________________________________________________________________\n",
            "activation_7 (Activation)    (None, 1)                 0         \n",
            "=================================================================\n",
            "Total params: 11\n",
            "Trainable params: 11\n",
            "Non-trainable params: 0\n",
            "_________________________________________________________________\n"
          ],
          "name": "stdout"
        }
      ]
    },
    {
      "cell_type": "markdown",
      "metadata": {
        "id": "Zu_rsYffWTpV",
        "colab_type": "text"
      },
      "source": [
        "### **Exercice**\n",
        "\n",
        "- Construire un modèle via l'API Séquentielle avec les couches suivantes :\n",
        "\n",
        "```python\n",
        "Input avec dim = (784,)\n",
        "Dense(256)\n",
        "Activation RELU\n",
        "Dense(256)\n",
        "Activation RELU\n",
        "Dense(128)\n",
        "Activation RELU\n",
        "Dense(10)\n",
        "Activation softmax\n",
        "```\n",
        "\n",
        "- Combien de paramètres ce modèles possèdent ils ?\n",
        "- Refaire le même modèle avec l'API fonctionnelle."
      ]
    },
    {
      "cell_type": "code",
      "metadata": {
        "id": "7HVR_9asWTpW",
        "colab_type": "code",
        "colab": {}
      },
      "source": [
        "model = models.Sequential([\n",
        "    Input(shape=(784,)),\n",
        "    Dense(256, name='dense1'),\n",
        "    Activation('relu', name='relu1'),\n",
        "    Dense(256, name='dense2'),\n",
        "    Activation('relu', name='relu2'),\n",
        "    Dense(128, name='dense3'),\n",
        "    Activation('relu'),\n",
        "    Dense(10, name='logits'),\n",
        "    Activation('softmax', name='clf')\n",
        "], name='SeqAPI')"
      ],
      "execution_count": 0,
      "outputs": []
    },
    {
      "cell_type": "code",
      "metadata": {
        "id": "Yd7RKMaXWTpZ",
        "colab_type": "code",
        "outputId": "9da964fd-95d8-4dac-a422-e85760b83d6a",
        "colab": {
          "base_uri": "https://localhost:8080/",
          "height": 458
        }
      },
      "source": [
        "model.summary()"
      ],
      "execution_count": 0,
      "outputs": [
        {
          "output_type": "stream",
          "text": [
            "Model: \"SeqAPI\"\n",
            "_________________________________________________________________\n",
            "Layer (type)                 Output Shape              Param #   \n",
            "=================================================================\n",
            "dense1 (Dense)               (None, 256)               200960    \n",
            "_________________________________________________________________\n",
            "relu1 (Activation)           (None, 256)               0         \n",
            "_________________________________________________________________\n",
            "dense2 (Dense)               (None, 256)               65792     \n",
            "_________________________________________________________________\n",
            "relu2 (Activation)           (None, 256)               0         \n",
            "_________________________________________________________________\n",
            "dense3 (Dense)               (None, 128)               32896     \n",
            "_________________________________________________________________\n",
            "activation_6 (Activation)    (None, 128)               0         \n",
            "_________________________________________________________________\n",
            "logits (Dense)               (None, 10)                1290      \n",
            "_________________________________________________________________\n",
            "clf (Activation)             (None, 10)                0         \n",
            "=================================================================\n",
            "Total params: 300,938\n",
            "Trainable params: 300,938\n",
            "Non-trainable params: 0\n",
            "_________________________________________________________________\n"
          ],
          "name": "stdout"
        }
      ]
    },
    {
      "cell_type": "code",
      "metadata": {
        "id": "yG2DcIPeWTpd",
        "colab_type": "code",
        "colab": {}
      },
      "source": [
        "inputs = Input(shape=(784,), name='Input')\n",
        "dns1 = Dense(256, name='dense1')(inputs)\n",
        "act1 = Activation('relu', name='relu1')(dns1)\n",
        "dns2 = Dense(256, name='dense2')(act1)\n",
        "act2 = Activation('relu', name='relu2')(dns2)\n",
        "dns3 = Dense(128, name='dense3')(act2)\n",
        "act3 = Activation('relu', name='relu3')(dns3)\n",
        "dns4 = Dense(10, name='logits')(act3)\n",
        "clf = Activation('softmax', name='softmax')(dns4)\n",
        "\n",
        "model = tf.keras.Model(inputs=inputs, outputs=clf, name='FuncAPI')"
      ],
      "execution_count": 0,
      "outputs": []
    },
    {
      "cell_type": "code",
      "metadata": {
        "id": "fmJluG8nWTpg",
        "colab_type": "code",
        "outputId": "7a0ffe4a-60f5-4c0a-9dec-c47777dd94e9",
        "colab": {
          "base_uri": "https://localhost:8080/",
          "height": 495
        }
      },
      "source": [
        "model.summary()"
      ],
      "execution_count": 0,
      "outputs": [
        {
          "output_type": "stream",
          "text": [
            "Model: \"FuncAPI\"\n",
            "_________________________________________________________________\n",
            "Layer (type)                 Output Shape              Param #   \n",
            "=================================================================\n",
            "Input (InputLayer)           [(None, 784)]             0         \n",
            "_________________________________________________________________\n",
            "dense1 (Dense)               (None, 256)               200960    \n",
            "_________________________________________________________________\n",
            "relu1 (Activation)           (None, 256)               0         \n",
            "_________________________________________________________________\n",
            "dense2 (Dense)               (None, 256)               65792     \n",
            "_________________________________________________________________\n",
            "relu2 (Activation)           (None, 256)               0         \n",
            "_________________________________________________________________\n",
            "dense3 (Dense)               (None, 128)               32896     \n",
            "_________________________________________________________________\n",
            "relu3 (Activation)           (None, 128)               0         \n",
            "_________________________________________________________________\n",
            "logits (Dense)               (None, 10)                1290      \n",
            "_________________________________________________________________\n",
            "softmax (Activation)         (None, 10)                0         \n",
            "=================================================================\n",
            "Total params: 300,938\n",
            "Trainable params: 300,938\n",
            "Non-trainable params: 0\n",
            "_________________________________________________________________\n"
          ],
          "name": "stdout"
        }
      ]
    },
    {
      "cell_type": "markdown",
      "metadata": {
        "id": "G3LVsRp-WTrH",
        "colab_type": "text"
      },
      "source": [
        "## **Weights & Biases**"
      ]
    },
    {
      "cell_type": "markdown",
      "metadata": {
        "id": "GPI3DziyWTrI",
        "colab_type": "text"
      },
      "source": [
        "Il est possible de nommer les couches des réseaux, ainsi on peut les analyser de façon unique avec la commande `get_layer()`. Par exemple, pour observer la couche nommée 'dense1' dans le modèle, on peut faire comme suit :"
      ]
    },
    {
      "cell_type": "code",
      "metadata": {
        "id": "Z9DwHCh0zvNs",
        "colab_type": "code",
        "outputId": "6cf15240-f5a9-4136-d916-7805a6bf76fa",
        "colab": {
          "base_uri": "https://localhost:8080/",
          "height": 72
        }
      },
      "source": [
        "layer = model.get_layer('dense1')\n",
        "weights, biases = layer.get_weights()\n",
        "print(f\"Poids : {weights.shape},\\n\"\n",
        "      f\"Nombre de neurones dans la couche : {weights.shape[1]},\\n\"\n",
        "      f\"Biais : {biases.shape[0]}\")"
      ],
      "execution_count": 0,
      "outputs": [
        {
          "output_type": "stream",
          "text": [
            "Poids : (784, 256),\n",
            "Nombre de neurones dans la couche : 256,\n",
            "Biais : 256\n"
          ],
          "name": "stdout"
        }
      ]
    },
    {
      "cell_type": "markdown",
      "metadata": {
        "id": "9QwQOr9Q0J7_",
        "colab_type": "text"
      },
      "source": [
        "Ou alors, on peut directement les appeler via leur numero de couche et l'attribut `model.layer`, la couche 0 étant la première en haut."
      ]
    },
    {
      "cell_type": "code",
      "metadata": {
        "id": "DXcUjxmwWTrJ",
        "colab_type": "code",
        "outputId": "23f1e5f9-d5e5-4bc7-a40a-1ad3704bdb94",
        "colab": {
          "base_uri": "https://localhost:8080/",
          "height": 72
        }
      },
      "source": [
        "layer = model.layers[3]\n",
        "weights, biases = layer.get_weights()\n",
        "print(f\"Poids : {weights.shape},\\n\"\n",
        "      f\"Nombre de neurones dans la couche : {weights.shape[1]},\\n\"\n",
        "      f\"Biais : {biases.shape[0]}\")"
      ],
      "execution_count": 0,
      "outputs": [
        {
          "output_type": "stream",
          "text": [
            "Poids : (256, 256),\n",
            "Nombre de neurones dans la couche : 256,\n",
            "Biais : 256\n"
          ],
          "name": "stdout"
        }
      ]
    },
    {
      "cell_type": "markdown",
      "metadata": {
        "id": "WwXfT9yxWTpk",
        "colab_type": "text"
      },
      "source": [
        "## **Compilation du modèle, Lancement de l'apprentissage : MNIST Dataset**"
      ]
    },
    {
      "cell_type": "markdown",
      "metadata": {
        "id": "1Lvs0QaWWTpk",
        "colab_type": "text"
      },
      "source": [
        "Le dataset MNIST des chiffres manuscrits, comporte un ensemble d'entraînement de 60 000 exemples, et un ensemble de test de 10 000 exemples. Les chiffres ont été normalisés en taille et centrés dans une image de taille fixe.\n",
        "\n",
        "C'est une bonne base de données pour les personnes qui veulent essayer des techniques d'apprentissage sur des données du monde réel tout en dépensant un minimum d'efforts en prétraitement et en formatage.\n",
        "\n",
        "**C'est aussi et surtout l'un des datasets les plus utilisés au monde dans la recherche académique pour faire du benchmark de modèle.**\n",
        "\n",
        "Importons cette base de données et regardons à quoi ressemble un exemple."
      ]
    },
    {
      "cell_type": "code",
      "metadata": {
        "id": "t4zBeiXiWTpl",
        "colab_type": "code",
        "colab": {}
      },
      "source": [
        "# Importons cette librairie pour obtenir un jeu de validation\n",
        "from sklearn.model_selection import train_test_split"
      ],
      "execution_count": 0,
      "outputs": []
    },
    {
      "cell_type": "code",
      "metadata": {
        "id": "6nD81OJ5WTpo",
        "colab_type": "code",
        "colab": {}
      },
      "source": [
        "(X_train,y_train), (X_test,y_test) = tf.keras.datasets.mnist.load_data()\n",
        "\n",
        "# reshape des données pour les faire correspondre au format de tensorflow\n",
        "X_train = X_train.reshape(-1, 28, 28, 1).astype('float32')\n",
        "X_test = X_test.reshape(-1, 28, 28, 1).astype('float32')"
      ],
      "execution_count": 0,
      "outputs": []
    },
    {
      "cell_type": "code",
      "metadata": {
        "id": "71NS1hbEWTpr",
        "colab_type": "code",
        "outputId": "cb07a2ae-5c55-43cf-aba9-11ff4e0db398",
        "colab": {
          "base_uri": "https://localhost:8080/",
          "height": 35
        }
      },
      "source": [
        "X_train.shape"
      ],
      "execution_count": 0,
      "outputs": [
        {
          "output_type": "execute_result",
          "data": {
            "text/plain": [
              "(60000, 28, 28, 1)"
            ]
          },
          "metadata": {
            "tags": []
          },
          "execution_count": 45
        }
      ]
    },
    {
      "cell_type": "code",
      "metadata": {
        "id": "yMRc_PR4WTpv",
        "colab_type": "code",
        "colab": {}
      },
      "source": [
        "# par défaut, train_test_split prend 25% des données pour la validation, soit ici 15000 observations.\n",
        "X_train, X_valid, y_train, y_valid = train_test_split(X_train, y_train, random_state=42)\n",
        "\n",
        "X_test = (X_test - 127.5) / 127.5 # Normalize the images to [-1, 1]\n",
        "X_train = (X_train - 127.5) / 127.5 # Normalize the images to [-1, 1]\n",
        "X_valid = (X_valid - 127.5) / 127.5 # Normalize the images to [-1, 1]"
      ],
      "execution_count": 0,
      "outputs": []
    },
    {
      "cell_type": "code",
      "metadata": {
        "id": "1SI7Io4qqscg",
        "colab_type": "code",
        "outputId": "f47f8d33-e729-4706-c0aa-aebad2258e88",
        "colab": {
          "base_uri": "https://localhost:8080/",
          "height": 482
        }
      },
      "source": [
        "import matplotlib.pyplot as plt\n",
        "class_names = [\"zero\", \"un\", \"deux\", \"trois\", \"quatre\",\n",
        "               \"cinq\", \"six\", \"sept\", \"huit\", \"neuf\"]\n",
        "\n",
        "n_rows = 4\n",
        "n_cols = 10\n",
        "plt.figure(figsize=(n_cols * 2, n_rows * 2))\n",
        "for row in range(n_rows):\n",
        "    for col in range(n_cols):\n",
        "        index = n_cols * row + col\n",
        "        plt.subplot(n_rows, n_cols, index + 1)\n",
        "        plt.imshow(X_train[index, : , :,0], cmap=\"binary\", interpolation=\"nearest\")\n",
        "        plt.axis('off')\n",
        "        plt.title(class_names[y_train[index]], fontsize=12)\n",
        "plt.subplots_adjust(wspace=0.2, hspace=0.5)"
      ],
      "execution_count": 0,
      "outputs": [
        {
          "output_type": "display_data",
          "data": {
            "image/png": "[encoded data removed]",
            "text/plain": [
              "<Figure size 1440x576 with 40 Axes>"
            ]
          },
          "metadata": {
            "tags": [],
            "needs_background": "light"
          }
        }
      ]
    },
    {
      "cell_type": "code",
      "metadata": {
        "id": "UfeLm8XBWTpz",
        "colab_type": "code",
        "outputId": "7ba15c2f-e856-4590-e4d8-b627f7f36e30",
        "colab": {
          "base_uri": "https://localhost:8080/",
          "height": 283
        }
      },
      "source": [
        "# Vous pouvez mettre un chiffre quelconque entre 0 et 45000 dans la première variable de X_train[valeur_variable, :, :, 0] et y_train pour afficher l'observation que vous voulez\n",
        "plt.imshow(X_train[2000, :, :, 0])\n",
        "print(y_train[2000])\n",
        "# Ici un zéro"
      ],
      "execution_count": 0,
      "outputs": [
        {
          "output_type": "stream",
          "text": [
            "0\n"
          ],
          "name": "stdout"
        },
        {
          "output_type": "display_data",
          "data": {
            "image/png": "[encoded data removed]",
            "text/plain": [
              "<Figure size 432x288 with 1 Axes>"
            ]
          },
          "metadata": {
            "tags": [],
            "needs_background": "light"
          }
        }
      ]
    },
    {
      "cell_type": "markdown",
      "metadata": {
        "id": "Iq_5zRC8WTp2",
        "colab_type": "text"
      },
      "source": [
        "Le dataset comprend donc des images des chiffres de $0$ à $9$, (des tenseurs 3D) de dimension $28 \\times 28$ en niveau de gris (le dernier $1$ dans la valeur de `X_train.shape`).\n",
        "\n",
        "Le but est ici de construire un classifieur, de telle sorte qu'il soit capable de nous prédire une fois entraîné la bonne valeur du chiffre qui lui sera présenté.\n",
        "\n",
        "Ici, on triche un peu, les réseaux dense ne sont pas spécialisés dans le traîtement des images, c'est pour cela qu'une fois l'input passée, on ajoute la couche `Flatten()` qui va se charger d'applatir l'image en un vecteur de dimension $28\\times28\\times1 = 784$.\n",
        "\n",
        "C'est une couche **très importante** que nous continuerons de rencontrer très fréquemment dans la suite des modules."
      ]
    },
    {
      "cell_type": "code",
      "metadata": {
        "id": "l-7dW-GQWTp3",
        "colab_type": "code",
        "colab": {}
      },
      "source": [
        "model = models.Sequential([\n",
        "    Input(shape=(28,28,1)),\n",
        "    Flatten(),\n",
        "    Dense(256, name='dense1'),\n",
        "    Activation('relu', name='relu1'),\n",
        "    Dense(256, name='dense2'),\n",
        "    Activation('relu', name='relu2'),\n",
        "    Dense(128, name='dense3'),\n",
        "    Activation('relu'),\n",
        "    Dense(10, name='logits'),\n",
        "    Activation('softmax', name='clf')\n",
        "], name='SeqAPI')"
      ],
      "execution_count": 0,
      "outputs": []
    },
    {
      "cell_type": "markdown",
      "metadata": {
        "id": "KxXoBMRNWTp6",
        "colab_type": "text"
      },
      "source": [
        "Pour finaliser le modèle, on a 3 hyperparamètres à lui faire passer via la commande `model.compile()`:\n",
        "\n",
        "- La fonction de perte utilisée, qui sera utilisée pour optimiser les poids et les biais du réseau lors de la rétropropagation,\n",
        "- La méthode d'optimisation utilisée pour la descente du gradient stochastique,\n",
        "- Les métriques de précision qui seront utilisés pour évaluer le modèle.\n",
        "\n",
        "**Mathématiquement**, il n'y a pas de relations entre entre la fonction de perte et les métriques de précision.\n",
        "\n",
        "La perte peut être considérée comme une **distance entre les vraies valeurs du problème et les valeurs prédites par le modèle**. Plus la perte est importante, plus les erreurs que vous avez commises sur les données sont énormes.\n",
        "\n",
        "La précision peut être considérée comme **le nombre d'erreurs que vous avez faites sur les données**.\n",
        "\n",
        "Cela signifie que :\n",
        "\n",
        "- Une faible précision et une perte énorme signifient que vous avez fait d'énormes erreurs sur un grand nombre de données\n",
        "- Une faible précision mais une faible perte signifie que vous avez fait peu d'erreurs sur un grand nombre de données\n",
        "- Une grande précision avec peu de pertes signifie que vous avez fait peu d'erreurs sur quelques données (dans le meilleur des cas)\n",
        "- Une grande précision mais une perte énorme, signifie que vous avez fait d'énormes erreurs sur quelques données. "
      ]
    },
    {
      "cell_type": "code",
      "metadata": {
        "id": "WWdkiNTiWTp6",
        "colab_type": "code",
        "colab": {}
      },
      "source": [
        "model.compile(loss = 'sparse_categorical_crossentropy',\n",
        "             optimizer=tf.keras.optimizers.SGD(lr=0.001),\n",
        "             metrics=['accuracy'])"
      ],
      "execution_count": 0,
      "outputs": []
    },
    {
      "cell_type": "markdown",
      "metadata": {
        "id": "R07cYkCiWTp-",
        "colab_type": "text"
      },
      "source": [
        "Lancer l'entraînement du modèle se fait via la commande `model.fit()`. On a alors plusieurs paramètres à rentrer :\n",
        "\n",
        "- `X_train, y_train`, qui sont les données sur lesquelles va s'entraîner se modèle,\n",
        "- `epoch` correspond au nombre d'époques pour l'entraînement du modèle. On rappelle qu'une époque correspond à un passage complet du dataset d'entraînement dans le modèle.\n",
        "- `batch_size` qui correspond au nombre d'observations utilisées pour effectuer la descente du gradient, ie la taillle du minibatch\n",
        "- `validation_data` Données sur lesquelles évaluer la perte et les métriques de précision du modèle à la fin de chaque époque. Le modèle ne sera pas entraîné sur ces données."
      ]
    },
    {
      "cell_type": "code",
      "metadata": {
        "id": "bOFEwocOWTp-",
        "colab_type": "code",
        "outputId": "ee5f4156-5563-4d0f-f84a-09cfb91d4f44",
        "colab": {
          "base_uri": "https://localhost:8080/",
          "height": 752
        }
      },
      "source": [
        "history = model.fit(X_train, y_train,\n",
        "                   epochs = 20,\n",
        "                   batch_size=64,\n",
        "                   validation_data=(X_valid, y_valid))"
      ],
      "execution_count": 0,
      "outputs": [
        {
          "output_type": "stream",
          "text": [
            "Epoch 1/20\n",
            "704/704 [==============================] - 3s 4ms/step - loss: 1.5880 - accuracy: 0.5644 - val_loss: 1.0422 - val_accuracy: 0.7642\n",
            "Epoch 2/20\n",
            "704/704 [==============================] - 3s 4ms/step - loss: 0.8051 - accuracy: 0.8077 - val_loss: 0.6613 - val_accuracy: 0.8330\n",
            "Epoch 3/20\n",
            "704/704 [==============================] - 3s 4ms/step - loss: 0.5783 - accuracy: 0.8477 - val_loss: 0.5251 - val_accuracy: 0.8578\n",
            "Epoch 4/20\n",
            "704/704 [==============================] - 3s 4ms/step - loss: 0.4848 - accuracy: 0.8684 - val_loss: 0.4648 - val_accuracy: 0.8709\n",
            "Epoch 5/20\n",
            "704/704 [==============================] - 3s 4ms/step - loss: 0.4322 - accuracy: 0.8790 - val_loss: 0.4208 - val_accuracy: 0.8789\n",
            "Epoch 6/20\n",
            "704/704 [==============================] - 3s 4ms/step - loss: 0.3980 - accuracy: 0.8868 - val_loss: 0.3907 - val_accuracy: 0.8910\n",
            "Epoch 7/20\n",
            "704/704 [==============================] - 3s 4ms/step - loss: 0.3732 - accuracy: 0.8919 - val_loss: 0.3725 - val_accuracy: 0.8922\n",
            "Epoch 8/20\n",
            "704/704 [==============================] - 3s 4ms/step - loss: 0.3544 - accuracy: 0.8969 - val_loss: 0.3519 - val_accuracy: 0.8983\n",
            "Epoch 9/20\n",
            "704/704 [==============================] - 3s 4ms/step - loss: 0.3394 - accuracy: 0.9014 - val_loss: 0.3397 - val_accuracy: 0.9001\n",
            "Epoch 10/20\n",
            "704/704 [==============================] - 3s 4ms/step - loss: 0.3267 - accuracy: 0.9048 - val_loss: 0.3279 - val_accuracy: 0.9056\n",
            "Epoch 11/20\n",
            "704/704 [==============================] - 3s 4ms/step - loss: 0.3162 - accuracy: 0.9079 - val_loss: 0.3200 - val_accuracy: 0.9074\n",
            "Epoch 12/20\n",
            "704/704 [==============================] - 3s 4ms/step - loss: 0.3065 - accuracy: 0.9104 - val_loss: 0.3100 - val_accuracy: 0.9108\n",
            "Epoch 13/20\n",
            "704/704 [==============================] - 3s 4ms/step - loss: 0.2978 - accuracy: 0.9130 - val_loss: 0.3029 - val_accuracy: 0.9112\n",
            "Epoch 14/20\n",
            "704/704 [==============================] - 3s 4ms/step - loss: 0.2913 - accuracy: 0.9150 - val_loss: 0.3019 - val_accuracy: 0.9117\n",
            "Epoch 15/20\n",
            "704/704 [==============================] - 3s 4ms/step - loss: 0.2838 - accuracy: 0.9174 - val_loss: 0.2892 - val_accuracy: 0.9159\n",
            "Epoch 16/20\n",
            "704/704 [==============================] - 3s 4ms/step - loss: 0.2771 - accuracy: 0.9191 - val_loss: 0.2865 - val_accuracy: 0.9167\n",
            "Epoch 17/20\n",
            "704/704 [==============================] - 3s 4ms/step - loss: 0.2713 - accuracy: 0.9206 - val_loss: 0.2779 - val_accuracy: 0.9195\n",
            "Epoch 18/20\n",
            "704/704 [==============================] - 3s 4ms/step - loss: 0.2651 - accuracy: 0.9225 - val_loss: 0.2736 - val_accuracy: 0.9202\n",
            "Epoch 19/20\n",
            "704/704 [==============================] - 3s 4ms/step - loss: 0.2598 - accuracy: 0.9242 - val_loss: 0.2681 - val_accuracy: 0.9221\n",
            "Epoch 20/20\n",
            "704/704 [==============================] - 3s 4ms/step - loss: 0.2551 - accuracy: 0.9258 - val_loss: 0.2655 - val_accuracy: 0.9224\n"
          ],
          "name": "stdout"
        }
      ]
    },
    {
      "cell_type": "markdown",
      "metadata": {
        "id": "tWVZcJp9Z8Ks",
        "colab_type": "text"
      },
      "source": [
        "Voyons comment s'en est sorti ce modèle."
      ]
    },
    {
      "cell_type": "code",
      "metadata": {
        "id": "zqh9WuUJWTqB",
        "colab_type": "code",
        "colab": {}
      },
      "source": [
        "import pandas as pd"
      ],
      "execution_count": 0,
      "outputs": []
    },
    {
      "cell_type": "code",
      "metadata": {
        "id": "uQU5qljvWTqE",
        "colab_type": "code",
        "outputId": "4eb5d21e-3760-4b73-eb69-c51bf91ffcb0",
        "colab": {
          "base_uri": "https://localhost:8080/",
          "height": 487
        }
      },
      "source": [
        "pd.DataFrame(history.history).plot(figsize=(12,8))\n",
        "plt.grid(True)\n",
        "plt.gca().set_ylim(0,1)\n",
        "plt.show()"
      ],
      "execution_count": 0,
      "outputs": [
        {
          "output_type": "display_data",
          "data": {
            "image/png": "[encoded data removed]",
            "text/plain": [
              "<Figure size 864x576 with 1 Axes>"
            ]
          },
          "metadata": {
            "tags": [],
            "needs_background": "light"
          }
        }
      ]
    },
    {
      "cell_type": "markdown",
      "metadata": {
        "id": "1ucTytZYaE94",
        "colab_type": "text"
      },
      "source": [
        "Sur ce graphique, on observe l'évolution de la fonction de perte et la précision à la fois sur le dataset d'entraînement et sur le dataset de validation, au fil des époques. C'est un graphe utile pour juger si oui ou non notre modèle est en sur-apprentissage.\n",
        "\n",
        "Evaluons maintenant notre modèle sur le jeu de test."
      ]
    },
    {
      "cell_type": "code",
      "metadata": {
        "id": "2cwiH1KyWTqH",
        "colab_type": "code",
        "outputId": "fe614d7e-1a95-4474-a46a-a1ccd2e53857",
        "colab": {
          "base_uri": "https://localhost:8080/",
          "height": 54
        }
      },
      "source": [
        "model.evaluate(X_test,\n",
        "               y_test,\n",
        "               verbose=2)"
      ],
      "execution_count": 0,
      "outputs": [
        {
          "output_type": "stream",
          "text": [
            "313/313 - 1s - loss: 0.2519 - accuracy: 0.9268\n"
          ],
          "name": "stdout"
        },
        {
          "output_type": "execute_result",
          "data": {
            "text/plain": [
              "[0.2519499659538269, 0.926800012588501]"
            ]
          },
          "metadata": {
            "tags": []
          },
          "execution_count": 35
        }
      ]
    },
    {
      "cell_type": "markdown",
      "metadata": {
        "id": "HcyImZhzWTqK",
        "colab_type": "text"
      },
      "source": [
        "### **Autre méthode : One hot Encoding**\n",
        "\n",
        "Ici `y_train` va de $0$ à $9$, or ces données ne sont pas des **données ordinales**, il n'y a pas de relations d'ordre dedans cela représente juste le nombre attendu. En les laissant comme ça, l'algorithme pourrait apprendre une représentation hiérarchique des données là où il n'y en pas.\n",
        "\n",
        "La bonne pratique est alors de transformer ces labels, en leur appliquant une transformation dite de **\"One hot encoding\"** (encore une fois, le terme français est manquant). De $0$ à $9$, on a 10 chiffres, chaque nombre va donc être remplacé par sa coordonnée correspondante dans $\\mathbf{R}^{10}$. Ainsi, on aura la transformation suivante.\n",
        "\n",
        "$1 \\rightarrow [0,1,0,0,0,0,0,0,0,0]$\n",
        "\n",
        "\n",
        "$5 \\rightarrow [0,0,0,0,0,1,0,0,0,0]$\n",
        "\n",
        "..."
      ]
    },
    {
      "cell_type": "code",
      "metadata": {
        "id": "Qpo46gxEWTqK",
        "colab_type": "code",
        "outputId": "0db9a153-7f04-489c-af8b-92a5ad58066c",
        "colab": {
          "base_uri": "https://localhost:8080/",
          "height": 146
        }
      },
      "source": [
        "y_train_oh = tf.keras.utils.to_categorical(y_train, num_classes=10)\n",
        "y_test_oh = tf.keras.utils.to_categorical(y_test, num_classes=10)\n",
        "y_valid_oh = tf.keras.utils.to_categorical(y_valid, num_classes=10)\n",
        "\n",
        "print(y_train_oh)"
      ],
      "execution_count": 0,
      "outputs": [
        {
          "output_type": "stream",
          "text": [
            "[[1. 0. 0. ... 0. 0. 0.]\n",
            " [0. 1. 0. ... 0. 0. 0.]\n",
            " [0. 1. 0. ... 0. 0. 0.]\n",
            " ...\n",
            " [1. 0. 0. ... 0. 0. 0.]\n",
            " [1. 0. 0. ... 0. 0. 0.]\n",
            " [0. 0. 0. ... 0. 0. 0.]]\n"
          ],
          "name": "stdout"
        }
      ]
    },
    {
      "cell_type": "markdown",
      "metadata": {
        "id": "8QdcERXfWTqN",
        "colab_type": "text"
      },
      "source": [
        "En faisant ça, il faut alors changer la fonction de perte pour la faire correspondre au format de la cible"
      ]
    },
    {
      "cell_type": "code",
      "metadata": {
        "id": "8w6ugdIuWTqO",
        "colab_type": "code",
        "outputId": "f2754292-a8d5-4c5b-9b72-1f207453c1d9",
        "colab": {
          "base_uri": "https://localhost:8080/",
          "height": 752
        }
      },
      "source": [
        "model = models.Sequential([\n",
        "    Input(shape=(28,28,1)),\n",
        "    Flatten(),\n",
        "    Dense(256, name='dense1'),\n",
        "    Activation('relu', name='relu1'),\n",
        "    Dense(256, name='dense2'),\n",
        "    Activation('relu', name='relu2'),\n",
        "    Dense(128, name='dense3'),\n",
        "    Activation('relu'),\n",
        "    Dense(10, name='logits'),\n",
        "    Activation('softmax', name='clf')\n",
        "], name='SeqAPI')\n",
        "\n",
        "model.compile(loss = 'categorical_crossentropy',\n",
        "              optimizer=tf.keras.optimizers.SGD(lr=0.001),\n",
        "              metrics=['accuracy'])\n",
        "\n",
        "history = model.fit(X_train, y_train_oh,\n",
        "                   epochs = 20,\n",
        "                   batch_size=64,\n",
        "                   validation_data=(X_valid, y_valid_oh))"
      ],
      "execution_count": 0,
      "outputs": [
        {
          "output_type": "stream",
          "text": [
            "Epoch 1/20\n",
            "704/704 [==============================] - 3s 5ms/step - loss: 1.7050 - accuracy: 0.5485 - val_loss: 1.1580 - val_accuracy: 0.7711\n",
            "Epoch 2/20\n",
            "704/704 [==============================] - 3s 4ms/step - loss: 0.8620 - accuracy: 0.8126 - val_loss: 0.6781 - val_accuracy: 0.8375\n",
            "Epoch 3/20\n",
            "704/704 [==============================] - 3s 4ms/step - loss: 0.5857 - accuracy: 0.8542 - val_loss: 0.5239 - val_accuracy: 0.8607\n",
            "Epoch 4/20\n",
            "704/704 [==============================] - 3s 4ms/step - loss: 0.4833 - accuracy: 0.8715 - val_loss: 0.4594 - val_accuracy: 0.8724\n",
            "Epoch 5/20\n",
            "704/704 [==============================] - 3s 4ms/step - loss: 0.4290 - accuracy: 0.8818 - val_loss: 0.4170 - val_accuracy: 0.8823\n",
            "Epoch 6/20\n",
            "704/704 [==============================] - 3s 4ms/step - loss: 0.3952 - accuracy: 0.8891 - val_loss: 0.3857 - val_accuracy: 0.8910\n",
            "Epoch 7/20\n",
            "704/704 [==============================] - 3s 4ms/step - loss: 0.3715 - accuracy: 0.8954 - val_loss: 0.3687 - val_accuracy: 0.8921\n",
            "Epoch 8/20\n",
            "704/704 [==============================] - 3s 4ms/step - loss: 0.3537 - accuracy: 0.8988 - val_loss: 0.3483 - val_accuracy: 0.9005\n",
            "Epoch 9/20\n",
            "704/704 [==============================] - 3s 4ms/step - loss: 0.3398 - accuracy: 0.9023 - val_loss: 0.3372 - val_accuracy: 0.9033\n",
            "Epoch 10/20\n",
            "704/704 [==============================] - 3s 4ms/step - loss: 0.3277 - accuracy: 0.9054 - val_loss: 0.3265 - val_accuracy: 0.9067\n",
            "Epoch 11/20\n",
            "704/704 [==============================] - 3s 4ms/step - loss: 0.3178 - accuracy: 0.9086 - val_loss: 0.3176 - val_accuracy: 0.9099\n",
            "Epoch 12/20\n",
            "704/704 [==============================] - 3s 4ms/step - loss: 0.3088 - accuracy: 0.9098 - val_loss: 0.3103 - val_accuracy: 0.9110\n",
            "Epoch 13/20\n",
            "704/704 [==============================] - 3s 4ms/step - loss: 0.3004 - accuracy: 0.9128 - val_loss: 0.3020 - val_accuracy: 0.9124\n",
            "Epoch 14/20\n",
            "704/704 [==============================] - 3s 4ms/step - loss: 0.2947 - accuracy: 0.9141 - val_loss: 0.3041 - val_accuracy: 0.9121\n",
            "Epoch 15/20\n",
            "704/704 [==============================] - 3s 4ms/step - loss: 0.2871 - accuracy: 0.9160 - val_loss: 0.2897 - val_accuracy: 0.9175\n",
            "Epoch 16/20\n",
            "704/704 [==============================] - 3s 4ms/step - loss: 0.2808 - accuracy: 0.9175 - val_loss: 0.2943 - val_accuracy: 0.9143\n",
            "Epoch 17/20\n",
            "704/704 [==============================] - 3s 4ms/step - loss: 0.2752 - accuracy: 0.9195 - val_loss: 0.2796 - val_accuracy: 0.9196\n",
            "Epoch 18/20\n",
            "704/704 [==============================] - 3s 4ms/step - loss: 0.2691 - accuracy: 0.9208 - val_loss: 0.2760 - val_accuracy: 0.9219\n",
            "Epoch 19/20\n",
            "704/704 [==============================] - 3s 4ms/step - loss: 0.2638 - accuracy: 0.9221 - val_loss: 0.2687 - val_accuracy: 0.9235\n",
            "Epoch 20/20\n",
            "704/704 [==============================] - 3s 4ms/step - loss: 0.2594 - accuracy: 0.9242 - val_loss: 0.2680 - val_accuracy: 0.9238\n"
          ],
          "name": "stdout"
        }
      ]
    },
    {
      "cell_type": "code",
      "metadata": {
        "id": "edLqxwpeWTqR",
        "colab_type": "code",
        "outputId": "fa352be0-bf6a-4a7d-8a9b-e1ece8072e2c",
        "colab": {
          "base_uri": "https://localhost:8080/",
          "height": 487
        }
      },
      "source": [
        "pd.DataFrame(history.history).plot(figsize=(12,8))\n",
        "plt.grid(True)\n",
        "plt.gca().set_ylim(0,1)\n",
        "plt.show()"
      ],
      "execution_count": 0,
      "outputs": [
        {
          "output_type": "display_data",
          "data": {
            "image/png": "[encoded data removed]",
            "text/plain": [
              "<Figure size 864x576 with 1 Axes>"
            ]
          },
          "metadata": {
            "tags": [],
            "needs_background": "light"
          }
        }
      ]
    },
    {
      "cell_type": "code",
      "metadata": {
        "id": "x4XRubIpWTqW",
        "colab_type": "code",
        "outputId": "ee089772-d2fb-470c-f929-c0acfdf55460",
        "colab": {
          "base_uri": "https://localhost:8080/",
          "height": 54
        }
      },
      "source": [
        "model.evaluate(X_test,\n",
        "               y_test_oh,\n",
        "               verbose=2)"
      ],
      "execution_count": 0,
      "outputs": [
        {
          "output_type": "stream",
          "text": [
            "313/313 - 1s - loss: 0.2435 - accuracy: 0.9289\n"
          ],
          "name": "stdout"
        },
        {
          "output_type": "execute_result",
          "data": {
            "text/plain": [
              "[0.24347971379756927, 0.9289000034332275]"
            ]
          },
          "metadata": {
            "tags": []
          },
          "execution_count": 21
        }
      ]
    },
    {
      "cell_type": "markdown",
      "metadata": {
        "id": "hruGTRD5WTqZ",
        "colab_type": "text"
      },
      "source": [
        "On arrive donc à avoir des résultats relativement bon, même avec des neurones qui ne sont pas spécialisés dans le traitement de l'image.\n",
        "\n",
        "Mais nous sommes **loin** de l'état de l'art qui est au alentours de $99,9\\%$ sur MNIST."
      ]
    },
    {
      "cell_type": "markdown",
      "metadata": {
        "id": "PlLVJJ4tWTqZ",
        "colab_type": "text"
      },
      "source": [
        "### **Exercice**\n",
        "\n",
        "Prenez en main cet exemple, changez le nombre de couches, le nombres de neurones, essayez avec ou sans one hot encoding. Créer votre classifieur de nombre."
      ]
    },
    {
      "cell_type": "markdown",
      "metadata": {
        "id": "3O4ynY5mWTqZ",
        "colab_type": "text"
      },
      "source": [
        "## **CIFAR-10 Dataset**"
      ]
    },
    {
      "cell_type": "markdown",
      "metadata": {
        "id": "KDrcPUr6WTqa",
        "colab_type": "text"
      },
      "source": [
        "Le dataset CIFAR-10 comprend 60000 images couleur $32\\times32$ réparties en $10$ classes, avec $6000$ images par classe. Il y a $50000$ images d'entraînement et $10000$ images de test.\n",
        "\n",
        "Le dataset est divisé en un dataset d'entraînement et un dataset de test, contenant $50000$ images pour le dataset d'entraînement, le dataset de test contient exactement $1000$ images sélectionnées au hasard dans chaque classe."
      ]
    },
    {
      "cell_type": "code",
      "metadata": {
        "id": "RV32vzEXWTqb",
        "colab_type": "code",
        "outputId": "43537653-22dd-4ca9-fb1a-8f54d1fa23ba",
        "colab": {
          "base_uri": "https://localhost:8080/",
          "height": 35
        }
      },
      "source": [
        "(X_train,y_train), (X_test,y_test)  = tf.keras.datasets.cifar10.load_data()\n",
        "\n",
        "X_train.shape"
      ],
      "execution_count": 0,
      "outputs": [
        {
          "output_type": "execute_result",
          "data": {
            "text/plain": [
              "(50000, 32, 32, 3)"
            ]
          },
          "metadata": {
            "tags": []
          },
          "execution_count": 78
        }
      ]
    },
    {
      "cell_type": "markdown",
      "metadata": {
        "id": "7PMmXasmWTqd",
        "colab_type": "text"
      },
      "source": [
        "Les classes présentes dans le dataset sont les suivantes, chacunes représentées par un chiffre de 0 à 9. Dans l'ordre nous avons :\n",
        "\n",
        "- airplane \n",
        "- automobile\n",
        "- bird\n",
        "- cat\n",
        "- deer\n",
        "- dog\n",
        "- frog\n",
        "- horse\n",
        "- ship\n",
        "- truck\n",
        "\n",
        "C'est aussi un dataset très connu pour faire du benchmark de modèle dans le milieu académique."
      ]
    },
    {
      "cell_type": "code",
      "metadata": {
        "id": "p897vkfRtpYV",
        "colab_type": "code",
        "outputId": "027ac510-eae9-47c3-ac57-1af4c476e3cc",
        "colab": {
          "base_uri": "https://localhost:8080/",
          "height": 482
        }
      },
      "source": [
        "class_names = ['airplane', 'automobile', 'bird', 'cat', 'deer', 'dog', 'frog', 'horse', 'ship', 'truck']\n",
        "\n",
        "n_rows = 4\n",
        "n_cols = 10\n",
        "plt.figure(figsize=(n_cols * 2, n_rows * 2))\n",
        "for row in range(n_rows):\n",
        "    for col in range(n_cols):\n",
        "        index = n_cols * row + col\n",
        "        plt.subplot(n_rows, n_cols, index + 1)\n",
        "        plt.imshow(X_train[index, : , :, :], cmap=\"binary\", interpolation=\"nearest\")\n",
        "        plt.axis('off')\n",
        "        plt.title(class_names[y_train[:,0][index]], fontsize=12)\n",
        "plt.subplots_adjust(wspace=0.2, hspace=0.5)"
      ],
      "execution_count": 0,
      "outputs": [
        {
          "output_type": "display_data",
          "data": {
            "image/png": "[encoded data removed]",
            "text/plain": [
              "<Figure size 1440x576 with 40 Axes>"
            ]
          },
          "metadata": {
            "tags": [],
            "needs_background": "light"
          }
        }
      ]
    },
    {
      "cell_type": "code",
      "metadata": {
        "id": "21NNQOb8WTqd",
        "colab_type": "code",
        "outputId": "44ffd3c5-e05f-4158-fc1e-2e39ffc0ffb6",
        "colab": {
          "base_uri": "https://localhost:8080/",
          "height": 284
        }
      },
      "source": [
        "plt.imshow(X_train[25000, :, :, :])\n",
        "print(y_train[25000])"
      ],
      "execution_count": 0,
      "outputs": [
        {
          "output_type": "stream",
          "text": [
            "[6]\n"
          ],
          "name": "stdout"
        },
        {
          "output_type": "display_data",
          "data": {
            "image/png": "[encoded data removed]",
            "text/plain": [
              "<Figure size 432x288 with 1 Axes>"
            ]
          },
          "metadata": {
            "tags": [],
            "needs_background": "light"
          }
        }
      ]
    },
    {
      "cell_type": "code",
      "metadata": {
        "id": "hByjY_UXWTqi",
        "colab_type": "code",
        "colab": {}
      },
      "source": [
        "X_train = X_train.reshape(-1, 32, 32, 3).astype('float32')\n",
        "X_test = X_test.reshape(-1, 32, 32, 3).astype('float32')\n",
        "\n",
        "X_train, X_valid, y_train, y_valid = train_test_split(X_train, y_train, random_state=RANDOM_SEED)\n",
        "\n",
        "X_test = (X_test - 127.5) / 127.5 # Normalize the images to [-1, 1]\n",
        "X_train = (X_train - 127.5) / 127.5 # Normalize the images to [-1, 1]\n",
        "X_valid = (X_valid - 127.5) / 127.5 # Normalize the images to [-1, 1]"
      ],
      "execution_count": 0,
      "outputs": []
    },
    {
      "cell_type": "code",
      "metadata": {
        "id": "ftLwnDLeWTql",
        "colab_type": "code",
        "outputId": "dc08c0e9-a224-48c5-b2f4-e598d21f8f20",
        "colab": {
          "base_uri": "https://localhost:8080/",
          "height": 146
        }
      },
      "source": [
        "y_train"
      ],
      "execution_count": 0,
      "outputs": [
        {
          "output_type": "execute_result",
          "data": {
            "text/plain": [
              "array([[0],\n",
              "       [0],\n",
              "       [9],\n",
              "       ...,\n",
              "       [8],\n",
              "       [8],\n",
              "       [8]], dtype=uint8)"
            ]
          },
          "metadata": {
            "tags": []
          },
          "execution_count": 82
        }
      ]
    },
    {
      "cell_type": "markdown",
      "metadata": {
        "id": "A4IfEFavWTqp",
        "colab_type": "text"
      },
      "source": [
        "### **Exercice**\n",
        "\n",
        "Le dataset a été chargé, partagé en train, validation, test. A vous de jouer, construisez une réseau de neurones pour classifer ces images. \n",
        "\n",
        "- Le nombres de couches de neurones,\n",
        "- Le nombres de neurones dans chaque couche,\n",
        "- Si oui ou non y_train est au format one_hot,\n",
        "- Le nombre d'époque,\n",
        "- La taille du batch.\n",
        "\n",
        "Tout cela dépend de vous, le squelette est là, à vous de le remplir."
      ]
    },
    {
      "cell_type": "code",
      "metadata": {
        "id": "jr-CXal-v5Z4",
        "colab_type": "code",
        "colab": {}
      },
      "source": [
        "model = models.Sequential([\n",
        "    Input(shape=(32,32,3)),\n",
        "    Flatten(),\n",
        "    ...\n",
        "\n",
        "\n",
        "    Dense(10, name='logits'),\n",
        "    Activation('softmax', name='clf')\n",
        "], name='SeqAPI')\n",
        "\n",
        "model.compile(loss = ...,\n",
        "              optimizer=tf.keras.optimizers.SGD(lr=0.001),\n",
        "              metrics=['accuracy'])\n",
        "\n",
        "history = model.fit(X_train, ...,\n",
        "                   epochs = ...,\n",
        "                   batch_size = ...,\n",
        "                   validation_data = (X_valid, ...))"
      ],
      "execution_count": 0,
      "outputs": []
    },
    {
      "cell_type": "code",
      "metadata": {
        "id": "jqe1X_zwWTqq",
        "colab_type": "code",
        "outputId": "406c688a-8f92-4919-a2e3-963e1d70bbbe",
        "colab": {
          "base_uri": "https://localhost:8080/",
          "height": 752
        }
      },
      "source": [
        "model = models.Sequential([\n",
        "    Input(shape=(32,32,3)),\n",
        "    Flatten(),\n",
        "    Dense(256, name='dense1'),\n",
        "    Activation('relu', name='relu1'),\n",
        "    Dense(256, name='dense2'),\n",
        "    Activation('relu', name='relu2'),\n",
        "    Dense(128, name='dense3'),\n",
        "    Activation('relu'),\n",
        "    Dense(10, name='logits'),\n",
        "    Activation('softmax', name='clf')\n",
        "], name='SeqAPI')\n",
        "\n",
        "model.compile(loss = 'sparse_categorical_crossentropy',\n",
        "              optimizer=tf.keras.optimizers.SGD(lr=0.001),\n",
        "              metrics=['accuracy'])\n",
        "\n",
        "history = model.fit(X_train, y_train,\n",
        "                   epochs = 20,\n",
        "                   batch_size = 64,\n",
        "                   validation_data = (X_valid, y_valid))"
      ],
      "execution_count": 0,
      "outputs": [
        {
          "output_type": "stream",
          "text": [
            "Epoch 1/20\n",
            "586/586 [==============================] - 3s 5ms/step - loss: 1.8880 - accuracy: 0.3349 - val_loss: 1.7019 - val_accuracy: 0.4051\n",
            "Epoch 2/20\n",
            "586/586 [==============================] - 3s 5ms/step - loss: 1.6359 - accuracy: 0.4247 - val_loss: 1.5955 - val_accuracy: 0.4374\n",
            "Epoch 3/20\n",
            "586/586 [==============================] - 3s 5ms/step - loss: 1.5345 - accuracy: 0.4609 - val_loss: 1.5408 - val_accuracy: 0.4554\n",
            "Epoch 4/20\n",
            "586/586 [==============================] - 3s 5ms/step - loss: 1.4591 - accuracy: 0.4914 - val_loss: 1.4981 - val_accuracy: 0.4721\n",
            "Epoch 5/20\n",
            "586/586 [==============================] - 3s 5ms/step - loss: 1.3968 - accuracy: 0.5146 - val_loss: 1.4699 - val_accuracy: 0.4802\n",
            "Epoch 6/20\n",
            "586/586 [==============================] - 3s 5ms/step - loss: 1.3426 - accuracy: 0.5315 - val_loss: 1.4369 - val_accuracy: 0.4917\n",
            "Epoch 7/20\n",
            "586/586 [==============================] - 3s 5ms/step - loss: 1.2934 - accuracy: 0.5515 - val_loss: 1.4188 - val_accuracy: 0.5028\n",
            "Epoch 8/20\n",
            "586/586 [==============================] - 3s 5ms/step - loss: 1.2481 - accuracy: 0.5655 - val_loss: 1.4106 - val_accuracy: 0.5070\n",
            "Epoch 9/20\n",
            "586/586 [==============================] - 3s 5ms/step - loss: 1.2046 - accuracy: 0.5823 - val_loss: 1.4019 - val_accuracy: 0.5085\n",
            "Epoch 10/20\n",
            "586/586 [==============================] - 3s 5ms/step - loss: 1.1639 - accuracy: 0.5969 - val_loss: 1.3943 - val_accuracy: 0.5134\n",
            "Epoch 11/20\n",
            "586/586 [==============================] - 3s 5ms/step - loss: 1.1231 - accuracy: 0.6103 - val_loss: 1.4128 - val_accuracy: 0.5088\n",
            "Epoch 12/20\n",
            "586/586 [==============================] - 3s 5ms/step - loss: 1.0850 - accuracy: 0.6234 - val_loss: 1.3914 - val_accuracy: 0.5163\n",
            "Epoch 13/20\n",
            "586/586 [==============================] - 3s 5ms/step - loss: 1.0483 - accuracy: 0.6374 - val_loss: 1.3963 - val_accuracy: 0.5174\n",
            "Epoch 14/20\n",
            "586/586 [==============================] - 3s 5ms/step - loss: 1.0112 - accuracy: 0.6512 - val_loss: 1.3926 - val_accuracy: 0.5204\n",
            "Epoch 15/20\n",
            "586/586 [==============================] - 3s 5ms/step - loss: 0.9777 - accuracy: 0.6629 - val_loss: 1.4209 - val_accuracy: 0.5135\n",
            "Epoch 16/20\n",
            "586/586 [==============================] - 3s 5ms/step - loss: 0.9430 - accuracy: 0.6762 - val_loss: 1.4084 - val_accuracy: 0.5222\n",
            "Epoch 17/20\n",
            "586/586 [==============================] - 3s 5ms/step - loss: 0.9103 - accuracy: 0.6861 - val_loss: 1.4244 - val_accuracy: 0.5241\n",
            "Epoch 18/20\n",
            "586/586 [==============================] - 3s 5ms/step - loss: 0.8775 - accuracy: 0.6967 - val_loss: 1.4481 - val_accuracy: 0.5160\n",
            "Epoch 19/20\n",
            "586/586 [==============================] - 3s 5ms/step - loss: 0.8480 - accuracy: 0.7105 - val_loss: 1.4447 - val_accuracy: 0.5293\n",
            "Epoch 20/20\n",
            "586/586 [==============================] - 3s 5ms/step - loss: 0.8140 - accuracy: 0.7225 - val_loss: 1.4881 - val_accuracy: 0.5174\n"
          ],
          "name": "stdout"
        }
      ]
    },
    {
      "cell_type": "code",
      "metadata": {
        "id": "hLmradKNWTqs",
        "colab_type": "code",
        "outputId": "b008edcb-6157-48b9-f52d-69cb85a4ecba",
        "colab": {
          "base_uri": "https://localhost:8080/",
          "height": 487
        }
      },
      "source": [
        "pd.DataFrame(history.history).plot(figsize=(12,8))\n",
        "plt.grid(True)\n",
        "plt.gca().set_ylim(0,2)\n",
        "plt.show()"
      ],
      "execution_count": 0,
      "outputs": [
        {
          "output_type": "display_data",
          "data": {
            "image/png": "[encoded data removed]",
            "text/plain": [
              "<Figure size 864x576 with 1 Axes>"
            ]
          },
          "metadata": {
            "tags": [],
            "needs_background": "light"
          }
        }
      ]
    },
    {
      "cell_type": "markdown",
      "metadata": {
        "id": "6boIZN6vc6MA",
        "colab_type": "text"
      },
      "source": [
        "Ayant $10$ classes différentes, un choix au hasard donnerait une précision de l'ordre de $10\\%$, le réseau fait donc mieux que choisir une classe au hasard.\n",
        "\n",
        "Cependant on est clairement en sur-apprentissage, la fonction de perte sur le dataset d'entraînement ne fait que baisser, **ce qui est normal puisque l'on optimise les poids pour à chaque étape** mais :\n",
        "\n",
        "- La fonction de perte sur le dataset de validation grimpe en flêche, \n",
        "- La précision sur le dataset de validation reste bloqué à $50\\%$.\n",
        "\n",
        "Pour résumer, \n",
        "\n",
        "Le modèle à appris par coeur les photos qu'il a pour s'entraîner, mais si on lui donne une photo au hasard du dataset de validation, il a **une chance sur deux de se tromper**."
      ]
    },
    {
      "cell_type": "code",
      "metadata": {
        "id": "x0t2fvkQ1PqQ",
        "colab_type": "code",
        "outputId": "3de15402-1d98-4835-dc09-d1d00deeed89",
        "colab": {
          "base_uri": "https://localhost:8080/",
          "height": 54
        }
      },
      "source": [
        "model.evaluate(X_test,\n",
        "               y_test,\n",
        "               verbose=2)"
      ],
      "execution_count": 0,
      "outputs": [
        {
          "output_type": "stream",
          "text": [
            "313/313 - 1s - loss: 1.4845 - accuracy: 0.5178\n"
          ],
          "name": "stdout"
        },
        {
          "output_type": "execute_result",
          "data": {
            "text/plain": [
              "[1.4845476150512695, 0.517799973487854]"
            ]
          },
          "metadata": {
            "tags": []
          },
          "execution_count": 85
        }
      ]
    },
    {
      "cell_type": "markdown",
      "metadata": {
        "id": "CunuQI0HWTqx",
        "colab_type": "text"
      },
      "source": [
        "## **Exemple : Overfit sur une régression linéaire**"
      ]
    },
    {
      "cell_type": "code",
      "metadata": {
        "id": "7MLyarrrWTqy",
        "colab_type": "code",
        "colab": {}
      },
      "source": [
        "model = models.Sequential([\n",
        "    Input(shape=(8,)),\n",
        "    Dense(10),\n",
        "    Activation('relu'),\n",
        "    Dense(1)\n",
        "    ], name='SeqAPI')"
      ],
      "execution_count": 0,
      "outputs": []
    },
    {
      "cell_type": "code",
      "metadata": {
        "id": "CSX9paooWTq1",
        "colab_type": "code",
        "colab": {}
      },
      "source": [
        "from sklearn.datasets import fetch_california_housing\n",
        "from sklearn.preprocessing import StandardScaler"
      ],
      "execution_count": 0,
      "outputs": []
    },
    {
      "cell_type": "code",
      "metadata": {
        "id": "GB0LvcVBWTq4",
        "colab_type": "code",
        "outputId": "ee5a4f46-47e1-4c7b-ea6b-c0f74b5ee2b2",
        "colab": {
          "base_uri": "https://localhost:8080/",
          "height": 35
        }
      },
      "source": [
        "housing = fetch_california_housing()"
      ],
      "execution_count": 0,
      "outputs": [
        {
          "output_type": "stream",
          "text": [
            "Downloading Cal. housing from https://ndownloader.figshare.com/files/5976036 to /root/scikit_learn_data\n"
          ],
          "name": "stderr"
        }
      ]
    },
    {
      "cell_type": "code",
      "metadata": {
        "id": "O7cnmrsaWTq7",
        "colab_type": "code",
        "colab": {}
      },
      "source": [
        "X_train, X_test, y_train, y_test = train_test_split(housing.data, housing.target, random_state=RANDOM_SEED)\n",
        "X_train, X_valid, y_train, y_valid = train_test_split(X_train, y_train, random_state=RANDOM_SEED)"
      ],
      "execution_count": 0,
      "outputs": []
    },
    {
      "cell_type": "code",
      "metadata": {
        "id": "CazdLXL4WTq9",
        "colab_type": "code",
        "outputId": "2c052270-a16a-4a84-aced-1d151d3e4b44",
        "colab": {
          "base_uri": "https://localhost:8080/",
          "height": 35
        }
      },
      "source": [
        "X_train.shape[1:]"
      ],
      "execution_count": 0,
      "outputs": [
        {
          "output_type": "execute_result",
          "data": {
            "text/plain": [
              "(8,)"
            ]
          },
          "metadata": {
            "tags": []
          },
          "execution_count": 33
        }
      ]
    },
    {
      "cell_type": "code",
      "metadata": {
        "id": "zq0NpojqWTrA",
        "colab_type": "code",
        "colab": {}
      },
      "source": [
        "scaler = StandardScaler()\n",
        "X_train = scaler.fit_transform(X_train)\n",
        "X_valid = scaler.fit_transform(X_valid)\n",
        "X_test = scaler.fit_transform(X_test)"
      ],
      "execution_count": 0,
      "outputs": []
    },
    {
      "cell_type": "code",
      "metadata": {
        "id": "7m4Wv-ZnWTrC",
        "colab_type": "code",
        "outputId": "4cb87141-906c-4b6b-98ac-c022ee13021d",
        "colab": {
          "base_uri": "https://localhost:8080/",
          "height": 1000
        }
      },
      "source": [
        "model.compile(loss = \"mean_squared_error\",\n",
        "              optimizer=tf.keras.optimizers.SGD(lr=0.001))\n",
        "\n",
        "history = model.fit(X_train, y_train,\n",
        "                   epochs = 50,\n",
        "                   validation_data=(X_valid, y_valid))"
      ],
      "execution_count": 0,
      "outputs": [
        {
          "output_type": "stream",
          "text": [
            "Epoch 1/50\n",
            "363/363 [==============================] - 1s 2ms/step - loss: 1.0085 - val_loss: 0.5576\n",
            "Epoch 2/50\n",
            "363/363 [==============================] - 1s 2ms/step - loss: 0.7323 - val_loss: 0.5103\n",
            "Epoch 3/50\n",
            "363/363 [==============================] - 1s 2ms/step - loss: 0.5432 - val_loss: 0.4421\n",
            "Epoch 4/50\n",
            "363/363 [==============================] - 1s 2ms/step - loss: 0.4873 - val_loss: 0.4747\n",
            "Epoch 5/50\n",
            "363/363 [==============================] - 1s 2ms/step - loss: 0.4633 - val_loss: 0.5185\n",
            "Epoch 6/50\n",
            "363/363 [==============================] - 1s 2ms/step - loss: 0.4543 - val_loss: 0.5728\n",
            "Epoch 7/50\n",
            "363/363 [==============================] - 1s 2ms/step - loss: 0.4479 - val_loss: 0.6496\n",
            "Epoch 8/50\n",
            "363/363 [==============================] - 1s 2ms/step - loss: 0.4373 - val_loss: 0.7340\n",
            "Epoch 9/50\n",
            "363/363 [==============================] - 1s 2ms/step - loss: 0.4294 - val_loss: 0.8309\n",
            "Epoch 10/50\n",
            "363/363 [==============================] - 1s 2ms/step - loss: 0.4250 - val_loss: 1.0059\n",
            "Epoch 11/50\n",
            "363/363 [==============================] - 1s 2ms/step - loss: 0.4198 - val_loss: 1.0281\n",
            "Epoch 12/50\n",
            "363/363 [==============================] - 1s 2ms/step - loss: 0.4124 - val_loss: 1.1515\n",
            "Epoch 13/50\n",
            "363/363 [==============================] - 1s 2ms/step - loss: 0.4087 - val_loss: 1.2540\n",
            "Epoch 14/50\n",
            "363/363 [==============================] - 1s 2ms/step - loss: 0.4059 - val_loss: 1.4295\n",
            "Epoch 15/50\n",
            "363/363 [==============================] - 1s 2ms/step - loss: 0.4032 - val_loss: 1.5358\n",
            "Epoch 16/50\n",
            "363/363 [==============================] - 1s 2ms/step - loss: 0.3971 - val_loss: 1.7117\n",
            "Epoch 17/50\n",
            "363/363 [==============================] - 1s 2ms/step - loss: 0.3946 - val_loss: 1.8072\n",
            "Epoch 18/50\n",
            "363/363 [==============================] - 1s 2ms/step - loss: 0.3911 - val_loss: 2.0575\n",
            "Epoch 19/50\n",
            "363/363 [==============================] - 1s 2ms/step - loss: 0.3890 - val_loss: 2.0484\n",
            "Epoch 20/50\n",
            "363/363 [==============================] - 1s 2ms/step - loss: 0.3871 - val_loss: 2.3720\n",
            "Epoch 21/50\n",
            "363/363 [==============================] - 1s 2ms/step - loss: 0.3876 - val_loss: 2.3768\n",
            "Epoch 22/50\n",
            "363/363 [==============================] - 1s 2ms/step - loss: 0.3832 - val_loss: 2.6135\n",
            "Epoch 23/50\n",
            "363/363 [==============================] - 1s 2ms/step - loss: 0.3893 - val_loss: 2.6044\n",
            "Epoch 24/50\n",
            "363/363 [==============================] - 1s 2ms/step - loss: 0.3814 - val_loss: 2.7835\n",
            "Epoch 25/50\n",
            "363/363 [==============================] - 1s 2ms/step - loss: 0.3782 - val_loss: 2.9207\n",
            "Epoch 26/50\n",
            "363/363 [==============================] - 1s 2ms/step - loss: 0.3781 - val_loss: 3.0013\n",
            "Epoch 27/50\n",
            "363/363 [==============================] - 1s 2ms/step - loss: 0.3752 - val_loss: 3.2208\n",
            "Epoch 28/50\n",
            "363/363 [==============================] - 1s 2ms/step - loss: 0.3739 - val_loss: 3.3756\n",
            "Epoch 29/50\n",
            "363/363 [==============================] - 1s 2ms/step - loss: 0.3734 - val_loss: 3.5684\n",
            "Epoch 30/50\n",
            "363/363 [==============================] - 1s 2ms/step - loss: 0.3722 - val_loss: 3.6600\n",
            "Epoch 31/50\n",
            "363/363 [==============================] - 1s 2ms/step - loss: 0.3748 - val_loss: 3.7396\n",
            "Epoch 32/50\n",
            "363/363 [==============================] - 1s 2ms/step - loss: 0.3694 - val_loss: 4.0048\n",
            "Epoch 33/50\n",
            "363/363 [==============================] - 1s 1ms/step - loss: 0.3783 - val_loss: 3.9827\n",
            "Epoch 34/50\n",
            "363/363 [==============================] - 1s 2ms/step - loss: 0.3757 - val_loss: 3.9152\n",
            "Epoch 35/50\n",
            "363/363 [==============================] - 1s 1ms/step - loss: 0.3667 - val_loss: 4.1124\n",
            "Epoch 36/50\n",
            "363/363 [==============================] - 1s 2ms/step - loss: 0.3656 - val_loss: 4.2639\n",
            "Epoch 37/50\n",
            "363/363 [==============================] - 1s 2ms/step - loss: 0.3646 - val_loss: 4.5196\n",
            "Epoch 38/50\n",
            "363/363 [==============================] - 1s 2ms/step - loss: 0.3627 - val_loss: 4.6563\n",
            "Epoch 39/50\n",
            "363/363 [==============================] - 1s 2ms/step - loss: 0.3619 - val_loss: 4.8059\n",
            "Epoch 40/50\n",
            "363/363 [==============================] - 1s 2ms/step - loss: 0.3729 - val_loss: 4.7411\n",
            "Epoch 41/50\n",
            "363/363 [==============================] - 1s 2ms/step - loss: 0.3642 - val_loss: 4.9749\n",
            "Epoch 42/50\n",
            "363/363 [==============================] - 1s 2ms/step - loss: 0.3591 - val_loss: 5.5618\n",
            "Epoch 43/50\n",
            "363/363 [==============================] - 1s 2ms/step - loss: 0.3646 - val_loss: 5.6091\n",
            "Epoch 44/50\n",
            "363/363 [==============================] - 1s 2ms/step - loss: 0.3745 - val_loss: 5.4336\n",
            "Epoch 45/50\n",
            "363/363 [==============================] - 1s 2ms/step - loss: 0.3582 - val_loss: 5.4102\n",
            "Epoch 46/50\n",
            "363/363 [==============================] - 1s 2ms/step - loss: 0.3655 - val_loss: 5.8440\n",
            "Epoch 47/50\n",
            "363/363 [==============================] - 1s 1ms/step - loss: 0.3608 - val_loss: 5.7196\n",
            "Epoch 48/50\n",
            "363/363 [==============================] - 1s 2ms/step - loss: 0.3570 - val_loss: 5.7243\n",
            "Epoch 49/50\n",
            "363/363 [==============================] - 1s 2ms/step - loss: 0.3574 - val_loss: 5.8584\n",
            "Epoch 50/50\n",
            "363/363 [==============================] - 1s 2ms/step - loss: 0.3549 - val_loss: 6.1989\n"
          ],
          "name": "stdout"
        }
      ]
    },
    {
      "cell_type": "code",
      "metadata": {
        "id": "eqrOAjdsWTrE",
        "colab_type": "code",
        "outputId": "cca655ca-1431-47d5-c9f2-7b999b4b9862",
        "colab": {
          "base_uri": "https://localhost:8080/",
          "height": 487
        }
      },
      "source": [
        "pd.DataFrame(history.history).plot(figsize=(12,8))\n",
        "plt.grid(True)\n",
        "plt.gca().set_ylim(0,10)\n",
        "plt.show()"
      ],
      "execution_count": 0,
      "outputs": [
        {
          "output_type": "display_data",
          "data": {
            "image/png": "[encoded data removed]",
            "text/plain": [
              "<Figure size 864x576 with 1 Axes>"
            ]
          },
          "metadata": {
            "tags": [],
            "needs_background": "light"
          }
        }
      ]
    },
    {
      "cell_type": "markdown",
      "metadata": {
        "id": "rM4m_dJcWTrL",
        "colab_type": "text"
      },
      "source": [
        "## **Conclusions**"
      ]
    },
    {
      "cell_type": "markdown",
      "metadata": {
        "id": "wB-v_6FzWTrM",
        "colab_type": "text"
      },
      "source": [
        "Pour résumer, la contruction d'un modèle se divise en ces étapes :\n",
        "\n",
        "- (Collecte et mise en forme de la donnée),\n",
        "- Mise en place de l'architecture : API séquentielle/fonctionelle,\n",
        "- Définition du triplet [Perte, Optimiseur, Métrique],\n",
        "- Définition de la commande `model.fit()`"
      ]
    },
    {
      "cell_type": "markdown",
      "metadata": {
        "id": "BptfbNocWTrM",
        "colab_type": "text"
      },
      "source": [
        "Il semble apparent, et cela sera récurrant par la suite, que le nombre de neurones dans les couches cachées ne peut s'exprimer qu'en multiple de 32 : 32, 64, 128, 256, 512 ... **Aucun théorème mathématique ne vient soutenir cette hypothèse**.\n",
        "\n",
        "Le fait de choisir des multiples de 32 (des puissances de 2) pour le nombres de neurones est plus une tradition et une convention informatique qu'autre chose. Si dans une moindre mesure, il est vrai que pour des neurones convolutifs (que nous verrons dans le module suivant) cela peut aider au niveau de la vitesse d'entraînement **car les algorithmes de transformée de Fourier rapide fonctionnent mieux avec un échantillonage en** $2^n$, c'est pas le cas du reste."
      ]
    }
  ],
  "metadata": {
    "kernelspec": {
      "display_name": "Python 3",
      "language": "python",
      "name": "python3"
    },
    "language_info": {
      "codemirror_mode": {
        "name": "ipython",
        "version": 3
      },
      "file_extension": ".py",
      "mimetype": "text/x-python",
      "name": "python",
      "nbconvert_exporter": "python",
      "pygments_lexer": "ipython3",
      "version": "3.7.5"
    },
    "latex_envs": {
      "LaTeX_envs_menu_present": true,
      "autoclose": false,
      "autocomplete": true,
      "bibliofile": "biblio.bib",
      "cite_by": "apalike",
      "current_citInitial": 1,
      "eqLabelWithNumbers": true,
      "eqNumInitial": 1,
      "hotkeys": {
        "equation": "Ctrl-E",
        "itemize": "Ctrl-I"
      },
      "labels_anchors": false,
      "latex_user_defs": false,
      "report_style_numbering": false,
      "user_envs_cfg": false
    },
    "varInspector": {
      "cols": {
        "lenName": 16,
        "lenType": 16,
        "lenVar": 40
      },
      "kernels_config": {
        "python": {
          "delete_cmd_postfix": "",
          "delete_cmd_prefix": "del ",
          "library": "var_list.py",
          "varRefreshCmd": "print(var_dic_list())"
        },
        "r": {
          "delete_cmd_postfix": ") ",
          "delete_cmd_prefix": "rm(",
          "library": "var_list.r",
          "varRefreshCmd": "cat(var_dic_list()) "
        }
      },
      "types_to_exclude": [
        "module",
        "function",
        "builtin_function_or_method",
        "instance",
        "_Feature"
      ],
      "window_display": false
    },
    "colab": {
      "name": "Module1.ipynb",
      "provenance": [],
      "collapsed_sections": [
        "PlLVJJ4tWTqZ"
      ],
      "toc_visible": true
    },
    "accelerator": "GPU"
  },
  "nbformat": 4,
  "nbformat_minor": 0
}